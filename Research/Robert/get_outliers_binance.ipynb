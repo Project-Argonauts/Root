{
 "cells": [
  {
   "cell_type": "code",
   "execution_count": 1,
   "metadata": {},
   "outputs": [],
   "source": [
    "import aiohttp\n",
    "import asyncio\n",
    "import pandas as pd\n",
    "from datetime import datetime\n",
    "import copy"
   ]
  },
  {
   "cell_type": "code",
   "execution_count": 2,
   "metadata": {},
   "outputs": [],
   "source": [
    "async def fetch_data_binance(session, token, start_time, end_time):\n",
    "    url = 'https://fapi.binance.com/fapi/v1/klines'\n",
    "    params = {\n",
    "        'symbol': token,\n",
    "        'interval': '1m',\n",
    "        'startTime': start_time,\n",
    "        'endTime': end_time,\n",
    "        'limit': 1000\n",
    "    }\n",
    "    async with session.get(url, params = params) as response:\n",
    "        return await response.json()\n",
    "\n",
    "async def process_token_binance(session, token, start_time, end_time):\n",
    "    time_intervals = [start_time]\n",
    "    cur_time = start_time\n",
    "    while cur_time < end_time:\n",
    "        time_intervals.append(cur_time + 1000 * 60 * 1000)\n",
    "        cur_time = time_intervals[-1]\n",
    "    \n",
    "    frames = []\n",
    "    for i in range(len(time_intervals) - 1):\n",
    "        result = await fetch_data_binance(session, token, time_intervals[i], time_intervals[i+1])\n",
    "        try:\n",
    "            cur_df = pd.DataFrame(result).iloc[:, :6]\n",
    "            cur_df.columns = ['time', 'open', 'high', 'low', 'close', 'volume']\n",
    "            frames.append(cur_df)\n",
    "        except ValueError:\n",
    "            print(f\"Ticker {token} was skipped: {result['msg']} \\n\")\n",
    "            return None, None\n",
    "            \n",
    "    \n",
    "    all_frame = pd.concat(frames, ignore_index = True)\n",
    "    all_frame.sort_values(by = 'time', inplace = True)\n",
    "    all_frame.reset_index(drop = True, inplace = True)\n",
    "    all_frame[['open', 'high', 'low', 'close', 'volume']] = all_frame[['open', 'high', 'low', 'close', 'volume']].astype('float')\n",
    "    all_frame['time'] = all_frame['time'].astype('str')\n",
    "    all_frame['token'] = token\n",
    "    \n",
    "    result_frame = all_frame\n",
    "    condition1 = (result_frame.high / result_frame.low)\n",
    "    condition1 = list(condition1[condition1 >= 1.015].index)\n",
    "    \n",
    "    condition2 = abs((result_frame.open / result_frame.close) - 1)\n",
    "    condition2 = list(condition2[condition2 < 0.007].index)\n",
    "    \n",
    "    condition3 = abs((result_frame.close / result_frame.low))\n",
    "    condition3 = list(condition3[condition3 >= 1.01].index)\n",
    "\n",
    "    condition4 = abs((result_frame.high / result_frame.open))\n",
    "    condition4 = list(condition4[condition4 >= 1.01].index)\n",
    "    \n",
    "    cond1235 = set.intersection(set(condition1), set(condition2), set(condition3))\n",
    "    cond1245 = set.intersection(set(condition1), set(condition2), set(condition4))\n",
    "\n",
    "    check_frame = copy.deepcopy(result_frame.loc[sorted(list(cond1235) + list(cond1245))])\n",
    "    check_frame['normal_time'] = [datetime.fromtimestamp(int(t) / 1000.0) for t in check_frame.time]\n",
    "\n",
    "    if len(check_frame) > 0:\n",
    "        return token, check_frame\n",
    "    return None, None\n",
    "\n",
    "async def get_token_outliear_binance(tokens, start_time = 1722978000000, end_time = 1723486810000):\n",
    "    check_tokens = []\n",
    "    return_dict = {}\n",
    "\n",
    "    async with aiohttp.ClientSession() as session:\n",
    "        tasks = [process_token_binance(session, token, start_time, end_time) for token in tokens]\n",
    "        results = await asyncio.gather(*tasks)\n",
    "\n",
    "    for token, check_frame in results:\n",
    "        if token:\n",
    "            check_tokens.append(token)\n",
    "            return_dict[token] = check_frame\n",
    "\n",
    "    return return_dict"
   ]
  },
  {
   "cell_type": "code",
   "execution_count": 3,
   "metadata": {},
   "outputs": [],
   "source": [
    "return_dict = await get_token_outliear_binance(tokens = ['ROSEUSDT', 'SAGAUSDT'])"
   ]
  },
  {
   "cell_type": "code",
   "execution_count": 4,
   "metadata": {},
   "outputs": [
    {
     "data": {
      "text/plain": [
       "dict_keys(['ROSEUSDT', 'SAGAUSDT'])"
      ]
     },
     "execution_count": 4,
     "metadata": {},
     "output_type": "execute_result"
    }
   ],
   "source": [
    "return_dict.keys()"
   ]
  },
  {
   "cell_type": "code",
   "execution_count": 5,
   "metadata": {},
   "outputs": [
    {
     "data": {
      "text/html": [
       "<div>\n",
       "<style scoped>\n",
       "    .dataframe tbody tr th:only-of-type {\n",
       "        vertical-align: middle;\n",
       "    }\n",
       "\n",
       "    .dataframe tbody tr th {\n",
       "        vertical-align: top;\n",
       "    }\n",
       "\n",
       "    .dataframe thead th {\n",
       "        text-align: right;\n",
       "    }\n",
       "</style>\n",
       "<table border=\"1\" class=\"dataframe\">\n",
       "  <thead>\n",
       "    <tr style=\"text-align: right;\">\n",
       "      <th></th>\n",
       "      <th>time</th>\n",
       "      <th>open</th>\n",
       "      <th>high</th>\n",
       "      <th>low</th>\n",
       "      <th>close</th>\n",
       "      <th>volume</th>\n",
       "      <th>token</th>\n",
       "      <th>normal_time</th>\n",
       "    </tr>\n",
       "  </thead>\n",
       "  <tbody>\n",
       "    <tr>\n",
       "      <th>2682</th>\n",
       "      <td>1723138920000</td>\n",
       "      <td>0.06299</td>\n",
       "      <td>0.06401</td>\n",
       "      <td>0.06293</td>\n",
       "      <td>0.06318</td>\n",
       "      <td>10535364.0</td>\n",
       "      <td>ROSEUSDT</td>\n",
       "      <td>2024-08-08 19:42:00</td>\n",
       "    </tr>\n",
       "  </tbody>\n",
       "</table>\n",
       "</div>"
      ],
      "text/plain": [
       "               time     open     high      low    close      volume     token   \n",
       "2682  1723138920000  0.06299  0.06401  0.06293  0.06318  10535364.0  ROSEUSDT  \\\n",
       "\n",
       "             normal_time  \n",
       "2682 2024-08-08 19:42:00  "
      ]
     },
     "execution_count": 5,
     "metadata": {},
     "output_type": "execute_result"
    }
   ],
   "source": [
    "return_dict['ROSEUSDT']"
   ]
  },
  {
   "cell_type": "code",
   "execution_count": 6,
   "metadata": {},
   "outputs": [
    {
     "data": {
      "text/html": [
       "<div>\n",
       "<style scoped>\n",
       "    .dataframe tbody tr th:only-of-type {\n",
       "        vertical-align: middle;\n",
       "    }\n",
       "\n",
       "    .dataframe tbody tr th {\n",
       "        vertical-align: top;\n",
       "    }\n",
       "\n",
       "    .dataframe thead th {\n",
       "        text-align: right;\n",
       "    }\n",
       "</style>\n",
       "<table border=\"1\" class=\"dataframe\">\n",
       "  <thead>\n",
       "    <tr style=\"text-align: right;\">\n",
       "      <th></th>\n",
       "      <th>time</th>\n",
       "      <th>open</th>\n",
       "      <th>high</th>\n",
       "      <th>low</th>\n",
       "      <th>close</th>\n",
       "      <th>volume</th>\n",
       "      <th>token</th>\n",
       "      <th>normal_time</th>\n",
       "    </tr>\n",
       "  </thead>\n",
       "  <tbody>\n",
       "    <tr>\n",
       "      <th>7395</th>\n",
       "      <td>1723421700000</td>\n",
       "      <td>1.2299</td>\n",
       "      <td>1.2502</td>\n",
       "      <td>1.2176</td>\n",
       "      <td>1.2344</td>\n",
       "      <td>1253406.7</td>\n",
       "      <td>SAGAUSDT</td>\n",
       "      <td>2024-08-12 02:15:00</td>\n",
       "    </tr>\n",
       "    <tr>\n",
       "      <th>7395</th>\n",
       "      <td>1723421700000</td>\n",
       "      <td>1.2299</td>\n",
       "      <td>1.2502</td>\n",
       "      <td>1.2176</td>\n",
       "      <td>1.2344</td>\n",
       "      <td>1253406.7</td>\n",
       "      <td>SAGAUSDT</td>\n",
       "      <td>2024-08-12 02:15:00</td>\n",
       "    </tr>\n",
       "    <tr>\n",
       "      <th>8257</th>\n",
       "      <td>1723473420000</td>\n",
       "      <td>1.6147</td>\n",
       "      <td>1.6413</td>\n",
       "      <td>1.6111</td>\n",
       "      <td>1.6241</td>\n",
       "      <td>2275311.1</td>\n",
       "      <td>SAGAUSDT</td>\n",
       "      <td>2024-08-12 16:37:00</td>\n",
       "    </tr>\n",
       "    <tr>\n",
       "      <th>8381</th>\n",
       "      <td>1723480860000</td>\n",
       "      <td>1.7068</td>\n",
       "      <td>1.7300</td>\n",
       "      <td>1.6992</td>\n",
       "      <td>1.7029</td>\n",
       "      <td>2571395.4</td>\n",
       "      <td>SAGAUSDT</td>\n",
       "      <td>2024-08-12 18:41:00</td>\n",
       "    </tr>\n",
       "  </tbody>\n",
       "</table>\n",
       "</div>"
      ],
      "text/plain": [
       "               time    open    high     low   close     volume     token   \n",
       "7395  1723421700000  1.2299  1.2502  1.2176  1.2344  1253406.7  SAGAUSDT  \\\n",
       "7395  1723421700000  1.2299  1.2502  1.2176  1.2344  1253406.7  SAGAUSDT   \n",
       "8257  1723473420000  1.6147  1.6413  1.6111  1.6241  2275311.1  SAGAUSDT   \n",
       "8381  1723480860000  1.7068  1.7300  1.6992  1.7029  2571395.4  SAGAUSDT   \n",
       "\n",
       "             normal_time  \n",
       "7395 2024-08-12 02:15:00  \n",
       "7395 2024-08-12 02:15:00  \n",
       "8257 2024-08-12 16:37:00  \n",
       "8381 2024-08-12 18:41:00  "
      ]
     },
     "execution_count": 6,
     "metadata": {},
     "output_type": "execute_result"
    }
   ],
   "source": [
    "return_dict['SAGAUSDT']"
   ]
  }
 ],
 "metadata": {
  "kernelspec": {
   "display_name": "Python 3",
   "language": "python",
   "name": "python3"
  },
  "language_info": {
   "codemirror_mode": {
    "name": "ipython",
    "version": 3
   },
   "file_extension": ".py",
   "mimetype": "text/x-python",
   "name": "python",
   "nbconvert_exporter": "python",
   "pygments_lexer": "ipython3",
   "version": "3.11.5"
  }
 },
 "nbformat": 4,
 "nbformat_minor": 2
}
